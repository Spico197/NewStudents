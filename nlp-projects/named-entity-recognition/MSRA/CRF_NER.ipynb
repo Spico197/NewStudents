{
 "cells": [
  {
   "cell_type": "code",
   "execution_count": 59,
   "metadata": {},
   "outputs": [],
   "source": [
    "import os\n",
    "import re\n",
    "from itertools import chain\n",
    "\n",
    "import pycrfsuite\n",
    "import matplotlib.pyplot as plt\n",
    "from sklearn.metrics import classification_report\n",
    "from sklearn.preprocessing import LabelBinarizer"
   ]
  },
  {
   "cell_type": "code",
   "execution_count": 19,
   "metadata": {},
   "outputs": [],
   "source": [
    "MODEL_PATH = './model/'\n",
    "MODEL_NAME = 'crf_ner_msra.model'\n",
    "\n",
    "if not os.path.exists(MODEL_PATH):\n",
    "    os.mkdir(MODEL_PATH)\n",
    "\n",
    "MODEL_FILEPATH = os.path.join(MODEL_PATH, MODEL_NAME)\n",
    "\n",
    "TRAIN_DATAPATH = 'msra_train_bio'\n",
    "TEST_DATAPATH = 'msra_test_bio'"
   ]
  },
  {
   "cell_type": "code",
   "execution_count": 20,
   "metadata": {},
   "outputs": [],
   "source": [
    "def load_data(file_path):\n",
    "    data = []\n",
    "    labels = []\n",
    "    sentence = []\n",
    "    label = []\n",
    "    with open(file_path, 'r', encoding='utf-8') as f:\n",
    "        for line in f:\n",
    "            if len(line.strip()) <= 0:\n",
    "                data.append(sentence)\n",
    "                labels.append(label)\n",
    "                sentence = []\n",
    "                label = []\n",
    "            else:\n",
    "                sentence.append(line.split()[0])\n",
    "                label.append(line.split()[-1])\n",
    "    return data, labels"
   ]
  },
  {
   "cell_type": "code",
   "execution_count": 21,
   "metadata": {},
   "outputs": [],
   "source": [
    "def char2features(sent, i):\n",
    "    char = sent[i]\n",
    "    features = [\n",
    "        'bias',\n",
    "        'char.lower=' + char.lower(),\n",
    "    ]\n",
    "    if i > 0:\n",
    "        char1 = sent[i - 1]\n",
    "        features.extend([\n",
    "            '-1:char.lower=' + char1.lower(),\n",
    "        ])\n",
    "    else:\n",
    "        features.append('BOS')\n",
    "    if i < len(sent) - 1:\n",
    "        char1 = sent[i + 1]\n",
    "        features.extend([\n",
    "            '+1:char.lower=' + char1.lower(),\n",
    "        ])\n",
    "    else:\n",
    "        features.append('EOS')\n",
    "    return features\n",
    "\n",
    "def sent2features(sent):\n",
    "    return [char2features(sent, i) for i in range(len(sent))]"
   ]
  },
  {
   "cell_type": "code",
   "execution_count": 22,
   "metadata": {},
   "outputs": [],
   "source": [
    "train_sents, train_labels = load_data(TRAIN_DATAPATH)\n",
    "test_sents, test_labels = load_data(TEST_DATAPATH)"
   ]
  },
  {
   "cell_type": "code",
   "execution_count": 32,
   "metadata": {},
   "outputs": [],
   "source": [
    "def train(it=50):\n",
    "    train_data = [sent2features(s) for s in train_sents]\n",
    "    trainer = pycrfsuite.Trainer(verbose=True)\n",
    "    trainer.set_params({\n",
    "        'c1': 1.0,  # coefficient for L1 penalty\n",
    "        'c2': 1e-3,  # coefficient for L2 penalty\n",
    "        'max_iterations': it,  # stop earlier\n",
    "        # include transitions that are possible, but not observed\n",
    "        'feature.possible_transitions': True\n",
    "    })\n",
    "\n",
    "    print(trainer.params())\n",
    "\n",
    "    for d, l in zip(train_data, train_labels):\n",
    "        trainer.append(d, l)\n",
    "    \n",
    "    trainer.train(MODEL_FILEPATH)\n",
    "\n",
    "    print(trainer.logparser.last_iteration)"
   ]
  },
  {
   "cell_type": "code",
   "execution_count": 24,
   "metadata": {},
   "outputs": [
    {
     "name": "stdout",
     "output_type": "stream",
     "text": [
      "['feature.minfreq', 'feature.possible_states', 'feature.possible_transitions', 'c1', 'c2', 'max_iterations', 'num_memories', 'epsilon', 'period', 'delta', 'linesearch', 'max_linesearch']\n",
      "Feature generation\n",
      "type: CRF1d\n",
      "feature.minfreq: 0.000000\n",
      "feature.possible_states: 0\n",
      "feature.possible_transitions: 0\n",
      "0....1....2....3....4....5....6....7....8....9....10\n",
      "Number of features: 35544\n",
      "Seconds required: 1.831\n",
      "\n",
      "L-BFGS optimization\n",
      "c1: 1.000000\n",
      "c2: 0.001000\n",
      "num_memories: 6\n",
      "max_iterations: 1\n",
      "epsilon: 0.000010\n",
      "stop: 10\n",
      "delta: 0.000010\n",
      "linesearch: MoreThuente\n",
      "linesearch.max_iterations: 20\n",
      "\n",
      "***** Iteration #1 *****\n",
      "Loss: 2179320.400978\n",
      "Feature norm: 1.000000\n",
      "Error norm: 1996013.856465\n",
      "Active features: 32174\n",
      "Line search trials: 1\n",
      "Line search step: 0.000000\n",
      "Seconds required for this iteration: 2.538\n",
      "\n",
      "L-BFGS terminated with the maximum number of iterations\n",
      "Total seconds required for training: 2.540\n",
      "\n",
      "Storing the model\n",
      "Number of active features: 32174 (35544)\n",
      "Number of active attributes: 12696 (14295)\n",
      "Number of active labels: 8 (8)\n",
      "Writing labels\n",
      "Writing attributes\n",
      "Writing feature references for transitions\n",
      "Writing feature references for attributes\n",
      "Seconds required: 0.041\n",
      "\n",
      "{'time': 2.538, 'linesearch_trials': 1, 'scores': {}, 'num': 1, 'linesearch_step': 0.0, 'active_features': 32174, 'feature_norm': 1.0, 'error_norm': 1996013.856465, 'loss': 2179320.400978}\n"
     ]
    }
   ],
   "source": [
    "train(1)"
   ]
  },
  {
   "cell_type": "code",
   "execution_count": 28,
   "metadata": {},
   "outputs": [],
   "source": [
    "def predict():\n",
    "    tagger = pycrfsuite.Tagger()\n",
    "    tagger.open(MODEL_FILEPATH)\n",
    "    example_sent = test_sents[3]\n",
    "    print(' '.join(example_sent), end='\\n\\n')\n",
    "    print(\"Predicted:\", ' '.join(tagger.tag(sent2features(example_sent))))\n",
    "    print(\"Correct:  \", ' '.join(test_labels[3]))"
   ]
  },
  {
   "cell_type": "code",
   "execution_count": 29,
   "metadata": {},
   "outputs": [
    {
     "name": "stdout",
     "output_type": "stream",
     "text": [
      "在 此 ， 中 共 中 央 谨 向 致 公 党 中 央 以 及 全 体 成 员 致 以 崇 高 的 敬 意 ！\n",
      "\n",
      "Predicted: O O O O O O O O O O O O O O O O O O O O O O O O O O O O\n",
      "Correct:   O O O B-ORG I-ORG I-ORG I-ORG O O B-ORG I-ORG I-ORG I-ORG I-ORG O O O O O O O O O O O O O O\n"
     ]
    }
   ],
   "source": [
    "predict()"
   ]
  },
  {
   "cell_type": "code",
   "execution_count": 30,
   "metadata": {},
   "outputs": [],
   "source": [
    "def predict_by_sent(sent):\n",
    "    tagger = pycrfsuite.Tagger()\n",
    "    tagger.open(MODEL_FILEPATH)\n",
    "    return tagger.tag(sent2features(sent))"
   ]
  },
  {
   "cell_type": "code",
   "execution_count": 40,
   "metadata": {},
   "outputs": [],
   "source": [
    "def bio_classification_report(y_true, y_pred):\n",
    "    lb = LabelBinarizer()\n",
    "    y_true_combined = lb.fit_transform(list(chain.from_iterable(y_true)))\n",
    "    y_pred_combined = lb.transform(list(chain.from_iterable(y_pred)))\n",
    "\n",
    "    tagset = set(lb.classes_) - {'O'}\n",
    "    tagset = sorted(tagset, key=lambda tag: tag.split('-', 1)[::-1])\n",
    "    class_indices = {cls: idx for idx, cls in enumerate(lb.classes_)}\n",
    "\n",
    "    return classification_report(\n",
    "        y_true_combined,\n",
    "        y_pred_combined,\n",
    "        labels=[class_indices[cls] for cls in tagset],\n",
    "        target_names=tagset,\n",
    "    )\n",
    "\n",
    "\n",
    "def evaluate():\n",
    "    tagger = pycrfsuite.Tagger()\n",
    "    tagger.open(MODEL_FILEPATH)\n",
    "    X_test = [sent2features(s) for s in test_sents]\n",
    "    y_test = test_labels\n",
    "    y_pred = [tagger.tag(xseq) for xseq in X_test]\n",
    "    print(bio_classification_report(y_test, y_pred))"
   ]
  },
  {
   "cell_type": "code",
   "execution_count": 31,
   "metadata": {},
   "outputs": [
    {
     "data": {
      "text/plain": [
       "['O', 'O', 'O', 'O', 'O', 'O']"
      ]
     },
     "execution_count": 31,
     "metadata": {},
     "output_type": "execute_result"
    }
   ],
   "source": [
    "predict_by_sent('香港，你好。')"
   ]
  },
  {
   "cell_type": "code",
   "execution_count": null,
   "metadata": {},
   "outputs": [],
   "source": [
    "train(50)\n",
    "\"\"\"\n",
    "['feature.minfreq', 'feature.possible_states', 'feature.possible_transitions', 'c1', 'c2', 'max_iterations', 'num_memories', 'epsilon', 'period', 'delta', 'linesearch', 'max_linesearch']\n",
    "Feature generation\n",
    "type: CRF1d\n",
    "feature.minfreq: 0.000000\n",
    "feature.possible_states: 0\n",
    "feature.possible_transitions: 1\n",
    "0....1....2....3....4....5....6....7....8....9....10\n",
    "Number of features: 35577\n",
    "Seconds required: 1.380\n",
    "\n",
    "L-BFGS optimization\n",
    "c1: 1.000000\n",
    "c2: 0.001000\n",
    "num_memories: 6\n",
    "max_iterations: 50\n",
    "epsilon: 0.000010\n",
    "stop: 10\n",
    "delta: 0.000010\n",
    "linesearch: MoreThuente\n",
    "linesearch.max_iterations: 20\n",
    "\"\"\""
   ]
  },
  {
   "cell_type": "code",
   "execution_count": 34,
   "metadata": {},
   "outputs": [
    {
     "data": {
      "text/plain": [
       "['B-LOC', 'I-LOC', 'O', 'O', 'O', 'O']"
      ]
     },
     "execution_count": 34,
     "metadata": {},
     "output_type": "execute_result"
    }
   ],
   "source": [
    "predict_by_sent('香港，你好。')"
   ]
  },
  {
   "cell_type": "code",
   "execution_count": null,
   "metadata": {
    "scrolled": true
   },
   "outputs": [],
   "source": [
    "train(5000)\n",
    "\"\"\"\n",
    "['feature.minfreq', 'feature.possible_states', 'feature.possible_transitions', 'c1', 'c2', 'max_iterations', 'num_memories', 'epsilon', 'period', 'delta', 'linesearch', 'max_linesearch']\n",
    "Feature generation\n",
    "type: CRF1d\n",
    "feature.minfreq: 0.000000\n",
    "feature.possible_states: 0\n",
    "feature.possible_transitions: 1\n",
    "0....1....2....3....4....5....6....7....8....9....10\n",
    "Number of features: 35577\n",
    "Seconds required: 1.354\n",
    "\n",
    "L-BFGS optimization\n",
    "c1: 1.000000\n",
    "c2: 0.001000\n",
    "num_memories: 6\n",
    "max_iterations: 5000\n",
    "epsilon: 0.000010\n",
    "stop: 10\n",
    "delta: 0.000010\n",
    "linesearch: MoreThuente\n",
    "linesearch.max_iterations: 20\n",
    "\n",
    "\n",
    "-------\n",
    "\n",
    "L-BFGS terminated with the stopping criteria\n",
    "Total seconds required for training: 1233.775\n",
    "\n",
    "Storing the model\n",
    "Number of active features: 13212 (35577)\n",
    "Number of active attributes: 5874 (14295)\n",
    "Number of active labels: 8 (8)\n",
    "Writing labels\n",
    "Writing attributes\n",
    "Writing feature references for transitions\n",
    "Writing feature references for attributes\n",
    "Seconds required: 0.009\n",
    "\n",
    "{'time': 1.223, 'linesearch_trials': 1, 'scores': {}, 'num': 979, 'linesearch_step': 1.0, \n",
    "'active_features': 13212, 'feature_norm': 212.318736, 'error_norm': 96.631076, 'loss': 73610.56687}\n",
    "\"\"\""
   ]
  },
  {
   "cell_type": "code",
   "execution_count": 74,
   "metadata": {},
   "outputs": [],
   "source": [
    "losses = []\n",
    "feature_norms = []\n",
    "error_norms = []\n",
    "activate_features = []\n",
    "line_search_trailses = []\n",
    "line_search_steps = []\n",
    "seconds_required_for_this_iterations = []\n",
    "\n",
    "with open('train_process_output', 'r', encoding='utf-8') as f:\n",
    "    texts = f.readlines()"
   ]
  },
  {
   "cell_type": "code",
   "execution_count": 51,
   "metadata": {},
   "outputs": [],
   "source": [
    "iters = re.findall(r'.*?Iteration\\s#(\\d+).*?', ''.join(texts))\n",
    "iters = [int(x) for x in iters]"
   ]
  },
  {
   "cell_type": "code",
   "execution_count": 52,
   "metadata": {},
   "outputs": [],
   "source": [
    "losses = re.findall(r'Loss:\\s(.*?)\\s', ''.join(texts))\n",
    "losses = [float(x) for x in losses]"
   ]
  },
  {
   "cell_type": "code",
   "execution_count": 53,
   "metadata": {},
   "outputs": [],
   "source": [
    "feature_norms = re.findall(r'Feature norm:\\s(.*?)\\s', ''.join(texts))\n",
    "feature_norms = [float(x) for x in feature_norms]"
   ]
  },
  {
   "cell_type": "code",
   "execution_count": 54,
   "metadata": {},
   "outputs": [],
   "source": [
    "error_norms = re.findall(r'Error norm:\\s(.*?)\\s', ''.join(texts))\n",
    "error_norms = [float(x) for x in error_norms]"
   ]
  },
  {
   "cell_type": "code",
   "execution_count": 55,
   "metadata": {},
   "outputs": [],
   "source": [
    "activate_features = re.findall(r'Active features:\\s(.*?)\\s', ''.join(texts))\n",
    "activate_features = [int(x) for x in activate_features]"
   ]
  },
  {
   "cell_type": "code",
   "execution_count": 56,
   "metadata": {},
   "outputs": [],
   "source": [
    "line_search_trailses = re.findall(r'Line search trials:\\s(\\d+)\\s', ''.join(texts))\n",
    "line_search_trailses = [int(x) for x in line_search_trailses]"
   ]
  },
  {
   "cell_type": "code",
   "execution_count": 57,
   "metadata": {},
   "outputs": [],
   "source": [
    "line_search_steps = re.findall(r'Line search step:\\s(.*?)\\s', ''.join(texts))\n",
    "line_search_steps = [float(x) for x in line_search_steps]"
   ]
  },
  {
   "cell_type": "code",
   "execution_count": 76,
   "metadata": {},
   "outputs": [],
   "source": [
    "seconds_required_for_this_iterations = re.findall(r'Seconds required for this iteration:\\s(.*?)\\s', ''.join(texts))\n",
    "seconds_required_for_this_iterations = [float(x) for x in seconds_required_for_this_iterations]"
   ]
  },
  {
   "cell_type": "code",
   "execution_count": 62,
   "metadata": {},
   "outputs": [
    {
     "data": {
      "image/png": "[encoded data removed]",
      "text/plain": [
       "<Figure size 432x288 with 1 Axes>"
      ]
     },
     "metadata": {
      "needs_background": "light"
     },
     "output_type": "display_data"
    }
   ],
   "source": [
    "fig = plt.figure()\n",
    "ax1 = fig.add_subplot(111)\n",
    "ax1.plot(iters, losses)\n",
    "ax1.set_title('losses')\n",
    "ax1.set_xlabel('iter')\n",
    "plt.show()"
   ]
  },
  {
   "cell_type": "code",
   "execution_count": 63,
   "metadata": {},
   "outputs": [
    {
     "data": {
      "image/png": "[encoded data removed]",
      "text/plain": [
       "<Figure size 432x288 with 1 Axes>"
      ]
     },
     "metadata": {
      "needs_background": "light"
     },
     "output_type": "display_data"
    }
   ],
   "source": [
    "fig = plt.figure()\n",
    "ax1 = fig.add_subplot(111)\n",
    "ax1.plot(iters, feature_norms)\n",
    "ax1.set_title('feature norms')\n",
    "ax1.set_xlabel('iter')\n",
    "plt.show()"
   ]
  },
  {
   "cell_type": "code",
   "execution_count": 66,
   "metadata": {},
   "outputs": [
    {
     "data": {
      "image/png": "[encoded data removed]",
      "text/plain": [
       "<Figure size 432x288 with 1 Axes>"
      ]
     },
     "metadata": {
      "needs_background": "light"
     },
     "output_type": "display_data"
    }
   ],
   "source": [
    "fig = plt.figure()\n",
    "ax1 = fig.add_subplot(111)\n",
    "ax1.plot(iters, error_norms)\n",
    "ax1.set_title('error norms')\n",
    "ax1.set_xlabel('iter')\n",
    "plt.show()"
   ]
  },
  {
   "cell_type": "code",
   "execution_count": 67,
   "metadata": {},
   "outputs": [
    {
     "data": {
      "image/png": "[encoded data removed]",
      "text/plain": [
       "<Figure size 432x288 with 1 Axes>"
      ]
     },
     "metadata": {
      "needs_background": "light"
     },
     "output_type": "display_data"
    }
   ],
   "source": [
    "fig = plt.figure()\n",
    "ax1 = fig.add_subplot(111)\n",
    "ax1.plot(iters, activate_features)\n",
    "ax1.set_title('activate features')\n",
    "ax1.set_xlabel('iter')\n",
    "plt.show()"
   ]
  },
  {
   "cell_type": "code",
   "execution_count": 68,
   "metadata": {},
   "outputs": [
    {
     "data": {
      "image/png": "[encoded data removed]",
      "text/plain": [
       "<Figure size 432x288 with 1 Axes>"
      ]
     },
     "metadata": {
      "needs_background": "light"
     },
     "output_type": "display_data"
    }
   ],
   "source": [
    "fig = plt.figure()\n",
    "ax1 = fig.add_subplot(111)\n",
    "ax1.plot(iters, line_search_trailses)\n",
    "ax1.set_title('line search trailses')\n",
    "ax1.set_xlabel('iter')\n",
    "plt.show()"
   ]
  },
  {
   "cell_type": "code",
   "execution_count": 69,
   "metadata": {},
   "outputs": [
    {
     "data": {
      "image/png": "[encoded data removed]",
      "text/plain": [
       "<Figure size 432x288 with 1 Axes>"
      ]
     },
     "metadata": {
      "needs_background": "light"
     },
     "output_type": "display_data"
    }
   ],
   "source": [
    "fig = plt.figure()\n",
    "ax1 = fig.add_subplot(111)\n",
    "ax1.plot(iters, line_search_steps)\n",
    "ax1.set_title('line search steps')\n",
    "ax1.set_xlabel('iter')\n",
    "plt.show()"
   ]
  },
  {
   "cell_type": "code",
   "execution_count": 77,
   "metadata": {},
   "outputs": [
    {
     "data": {
      "image/png": "[encoded data removed]",
      "text/plain": [
       "<Figure size 432x288 with 1 Axes>"
      ]
     },
     "metadata": {
      "needs_background": "light"
     },
     "output_type": "display_data"
    }
   ],
   "source": [
    "fig = plt.figure()\n",
    "ax1 = fig.add_subplot(111)\n",
    "ax1.plot(iters, seconds_required_for_this_iterations)\n",
    "ax1.set_title('seconds required for this iterations')\n",
    "ax1.set_xlabel('iter')\n",
    "plt.show()"
   ]
  },
  {
   "cell_type": "code",
   "execution_count": 41,
   "metadata": {},
   "outputs": [
    {
     "name": "stdout",
     "output_type": "stream",
     "text": [
      "              precision    recall  f1-score   support\n",
      "\n",
      "       B-LOC       0.90      0.82      0.86      2886\n",
      "       I-LOC       0.86      0.74      0.80      4405\n",
      "       B-ORG       0.78      0.69      0.73      1331\n",
      "       I-ORG       0.81      0.76      0.78      5646\n",
      "       B-PER       0.93      0.75      0.83      1973\n",
      "       I-PER       0.86      0.88      0.87      3851\n",
      "\n",
      "   micro avg       0.85      0.78      0.82     20092\n",
      "   macro avg       0.86      0.78      0.81     20092\n",
      "weighted avg       0.85      0.78      0.82     20092\n",
      " samples avg       0.09      0.09      0.09     20092\n",
      "\n"
     ]
    },
    {
     "name": "stderr",
     "output_type": "stream",
     "text": [
      "/data/tzhu/.envs/nlp-py35/lib/python3.5/site-packages/sklearn/metrics/classification.py:1437: UndefinedMetricWarning: Precision and F-score are ill-defined and being set to 0.0 in samples with no predicted labels.\n",
      "  'precision', 'predicted', average, warn_for)\n",
      "/data/tzhu/.envs/nlp-py35/lib/python3.5/site-packages/sklearn/metrics/classification.py:1439: UndefinedMetricWarning: Recall and F-score are ill-defined and being set to 0.0 in samples with no true labels.\n",
      "  'recall', 'true', average, warn_for)\n"
     ]
    }
   ],
   "source": [
    "evaluate()"
   ]
  },
  {
   "cell_type": "code",
   "execution_count": null,
   "metadata": {},
   "outputs": [],
   "source": []
  }
 ],
 "metadata": {
  "kernelspec": {
   "display_name": "Python 3",
   "language": "python",
   "name": "python3"
  },
  "language_info": {
   "codemirror_mode": {
    "name": "ipython",
    "version": 3
   },
   "file_extension": ".py",
   "mimetype": "text/x-python",
   "name": "python",
   "nbconvert_exporter": "python",
   "pygments_lexer": "ipython3",
   "version": "3.5.2"
  }
 },
 "nbformat": 4,
 "nbformat_minor": 4
}
